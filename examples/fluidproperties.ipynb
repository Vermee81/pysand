{
 "cells": [
  {
   "cell_type": "markdown",
   "metadata": {},
   "source": [
    "# pySand 1.5\n",
    "##### Fluid properties examples"
   ]
  },
  {
   "cell_type": "code",
   "execution_count": 1,
   "metadata": {},
   "outputs": [],
   "source": [
    "from pysand.fluidproperties import mix_density, mix_velocity"
   ]
  },
  {
   "cell_type": "markdown",
   "metadata": {},
   "source": [
    "### Fluid properties calculation"
   ]
  },
  {
   "cell_type": "markdown",
   "metadata": {},
   "source": [
    "Input parameters:"
   ]
  },
  {
   "cell_type": "code",
   "execution_count": 2,
   "metadata": {},
   "outputs": [],
   "source": [
    "P = 40  # Pressure [bar]\n",
    "T = 50  # Temperature [deg C]\n",
    "Qo = 300  # Oil rate [Sm3/d]\n",
    "Qw = 2300  # Water rate [Sm3/d]\n",
    "Qg = 320000  # Gas rate [Sm3/d]\n",
    "rho_o = 780  # Oil density at std conditions [kg/m3]\n",
    "rho_w = 980  # Water density at std conditions [kg/m3]\n",
    "MW = 19.2  # Gas molecular weight [kg/kmol]\n",
    "Z = .95  # Gas compressibility factor [-]\n",
    "D = 0.12 # Pipe cross sectional diameter [m]"
   ]
  },
  {
   "cell_type": "markdown",
   "metadata": {},
   "source": [
    "Calculations:"
   ]
  },
  {
   "cell_type": "code",
   "execution_count": 3,
   "metadata": {},
   "outputs": [],
   "source": [
    "rho_m = mix_density(P, T, Qo, Qw, Qg, rho_o, rho_w, MW, Z)\n",
    "v_m = mix_velocity(P, T, Qo, Qw, Qg, Z, D)"
   ]
  },
  {
   "cell_type": "code",
   "execution_count": 4,
   "metadata": {},
   "outputs": [
    {
     "name": "stdout",
     "output_type": "stream",
     "text": [
      "Mix density: 245.04 kg/m3\n",
      "Mix velocity: 11.47 m/s\n"
     ]
    }
   ],
   "source": [
    "print('Mix density:',rho_m, 'kg/m3')\n",
    "print('Mix velocity:', v_m, 'm/s')"
   ]
  }
 ],
 "metadata": {
  "kernelspec": {
   "display_name": "Python 3",
   "language": "python",
   "name": "python3"
  },
  "language_info": {
   "codemirror_mode": {
    "name": "ipython",
    "version": 3
   },
   "file_extension": ".py",
   "mimetype": "text/x-python",
   "name": "python",
   "nbconvert_exporter": "python",
   "pygments_lexer": "ipython3",
   "version": "3.6.7"
  }
 },
 "nbformat": 4,
 "nbformat_minor": 2
}
