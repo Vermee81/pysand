{
 "cells": [
  {
   "cell_type": "markdown",
   "metadata": {},
   "source": [
    "# pySand 1.5\n",
    "##### Erosion examples"
   ]
  },
  {
   "cell_type": "markdown",
   "metadata": {},
   "source": [
    "Available erosion models:\n",
    "- bend: Bend\n",
    "- tee: Blinded tee\n",
    "- straight_pipe: Smooth and straight pipes\n",
    "- welded_joint: Welded joints\n",
    "- manifold: Manifold (pending release in DNVGL RP-O501)\n",
    "- reducer: Reducer\n",
    "- probes: Erosion probes\n",
    "- flexible: Flexible\n",
    "- choke_gallery: Choke gallery"
   ]
  },
  {
   "cell_type": "code",
   "execution_count": 1,
   "metadata": {},
   "outputs": [],
   "source": [
    "from pysand.erosion import bend, reducer, erosion_rate, materials\n",
    "import pandas as pd\n",
    "import numpy as np\n",
    "import matplotlib.pyplot as plt"
   ]
  },
  {
   "cell_type": "markdown",
   "metadata": {},
   "source": [
    "### Single point relative erosion rate calculation"
   ]
  },
  {
   "cell_type": "markdown",
   "metadata": {},
   "source": [
    "Input parameters:"
   ]
  },
  {
   "cell_type": "code",
   "execution_count": 2,
   "metadata": {},
   "outputs": [],
   "source": [
    "v_m = 17  # Mix velocity [m/s]\n",
    "rho_m = 100  # Mix density [kg/m3]\n",
    "mu_m = 1e-3  # Mix viscosity [kg/ms]\n",
    "R = 3  # Bend-radius [# ID's]\n",
    "GF = 2  # Geometry factor [-]\n",
    "D = .12  # Pipe diameter [m]\n",
    "d_p = .2  # Particle diameter [mm]"
   ]
  },
  {
   "cell_type": "markdown",
   "metadata": {},
   "source": [
    "Bend relative erosion rate [mm/ton]:"
   ]
  },
  {
   "cell_type": "code",
   "execution_count": 3,
   "metadata": {},
   "outputs": [
    {
     "data": {
      "text/plain": [
       "0.02512124119544143"
      ]
     },
     "execution_count": 3,
     "metadata": {},
     "output_type": "execute_result"
    }
   ],
   "source": [
    "bend(v_m, rho_m, mu_m, R, GF, D, d_p)"
   ]
  },
  {
   "cell_type": "markdown",
   "metadata": {},
   "source": [
    "Reducer erosion:"
   ]
  },
  {
   "cell_type": "code",
   "execution_count": 4,
   "metadata": {},
   "outputs": [
    {
     "name": "stdout",
     "output_type": "stream",
     "text": [
      "Relative erosion rate:  0.04  mm/ton\n",
      "Absolute erosion rate:  1.78  mm/year\n"
     ]
    }
   ],
   "source": [
    "D2 = .1  # Downstream pipe diameter [m]\n",
    "Q_s = 1.5  # Sand production rate [g/s]\n",
    "E = reducer(v_m, rho_m, D, D2, d_p, GF=GF, alpha=20)\n",
    "E_rate = erosion_rate(E, Q_s)\n",
    "print('Relative erosion rate: ', np.round(E, 2), ' mm/ton')\n",
    "print('Absolute erosion rate: ', np.round(E_rate, 2), ' mm/year')"
   ]
  },
  {
   "cell_type": "markdown",
   "metadata": {},
   "source": [
    "### Materials"
   ]
  },
  {
   "cell_type": "markdown",
   "metadata": {},
   "source": [
    "Different materials can be specified with the materials argument for the Bend, Blinded tee, Welded joints, Manifold, Reducer, Erosion probe, Flexible and Choke gallery erosion models. The default material is Duplex steel for all models except the choke gallery model where DC-05 Tungsten Carbide is default."
   ]
  },
  {
   "cell_type": "code",
   "execution_count": 5,
   "metadata": {},
   "outputs": [
    {
     "name": "stdout",
     "output_type": "stream",
     "text": [
      "--------------------\n",
      "Available materials:\n",
      "--------------------\n"
     ]
    },
    {
     "data": {
      "text/plain": [
       "['carbon_steel',\n",
       " 'duplex',\n",
       " 'ss316',\n",
       " 'inconel',\n",
       " 'grp_epoxy',\n",
       " 'grp_vinyl_ester',\n",
       " 'hdpe',\n",
       " 'aluminium',\n",
       " 'dc_05_tungsten',\n",
       " 'cs_10_tungsten',\n",
       " 'cr_37_tungsten',\n",
       " '95_alu_oxide',\n",
       " '99_alu_oxide',\n",
       " 'psz_ceramic_zirconia',\n",
       " 'ZrO2-Y3_ceramic_zirconia',\n",
       " 'SiC_silicon_carbide',\n",
       " 'Si3N4_silicon_nitride',\n",
       " 'TiB2_titanium_diboride',\n",
       " 'B4C_boron_carbide',\n",
       " 'SiSiC_ceramic_carbide']"
      ]
     },
     "execution_count": 5,
     "metadata": {},
     "output_type": "execute_result"
    }
   ],
   "source": [
    "materials()"
   ]
  },
  {
   "cell_type": "code",
   "execution_count": 6,
   "metadata": {},
   "outputs": [
    {
     "name": "stdout",
     "output_type": "stream",
     "text": [
      "carbon_steel :  0.025  mm/ton\n",
      "duplex :  0.025  mm/ton\n",
      "dc_05_tungsten :  0.0  mm/ton\n",
      "aluminium :  0.091  mm/ton\n"
     ]
    }
   ],
   "source": [
    "for mat in ['carbon_steel', 'duplex', 'dc_05_tungsten', 'aluminium']:\n",
    "    print(mat, ': ', np.round(bend(v_m, rho_m, mu_m, R, GF, D, d_p, material=mat), 3), ' mm/ton')"
   ]
  },
  {
   "cell_type": "markdown",
   "metadata": {},
   "source": [
    "### Project erosion prediction"
   ]
  },
  {
   "cell_type": "markdown",
   "metadata": {},
   "source": [
    "Creating some example data (can be imported from csv etc):"
   ]
  },
  {
   "cell_type": "code",
   "execution_count": 7,
   "metadata": {},
   "outputs": [
    {
     "data": {
      "text/html": [
       "<div>\n",
       "<style scoped>\n",
       "    .dataframe tbody tr th:only-of-type {\n",
       "        vertical-align: middle;\n",
       "    }\n",
       "\n",
       "    .dataframe tbody tr th {\n",
       "        vertical-align: top;\n",
       "    }\n",
       "\n",
       "    .dataframe thead th {\n",
       "        text-align: right;\n",
       "    }\n",
       "</style>\n",
       "<table border=\"1\" class=\"dataframe\">\n",
       "  <thead>\n",
       "    <tr style=\"text-align: right;\">\n",
       "      <th></th>\n",
       "      <th>v_m</th>\n",
       "      <th>rho_m</th>\n",
       "    </tr>\n",
       "  </thead>\n",
       "  <tbody>\n",
       "    <tr>\n",
       "      <td>2023</td>\n",
       "      <td>14.2</td>\n",
       "      <td>300</td>\n",
       "    </tr>\n",
       "    <tr>\n",
       "      <td>2024</td>\n",
       "      <td>14.5</td>\n",
       "      <td>290</td>\n",
       "    </tr>\n",
       "    <tr>\n",
       "      <td>2025</td>\n",
       "      <td>15.7</td>\n",
       "      <td>290</td>\n",
       "    </tr>\n",
       "    <tr>\n",
       "      <td>2026</td>\n",
       "      <td>18.2</td>\n",
       "      <td>280</td>\n",
       "    </tr>\n",
       "    <tr>\n",
       "      <td>2027</td>\n",
       "      <td>19.9</td>\n",
       "      <td>230</td>\n",
       "    </tr>\n",
       "    <tr>\n",
       "      <td>2028</td>\n",
       "      <td>20.8</td>\n",
       "      <td>400</td>\n",
       "    </tr>\n",
       "    <tr>\n",
       "      <td>2029</td>\n",
       "      <td>20.3</td>\n",
       "      <td>450</td>\n",
       "    </tr>\n",
       "  </tbody>\n",
       "</table>\n",
       "</div>"
      ],
      "text/plain": [
       "       v_m  rho_m\n",
       "2023  14.2    300\n",
       "2024  14.5    290\n",
       "2025  15.7    290\n",
       "2026  18.2    280\n",
       "2027  19.9    230\n",
       "2028  20.8    400\n",
       "2029  20.3    450"
      ]
     },
     "execution_count": 7,
     "metadata": {},
     "output_type": "execute_result"
    }
   ],
   "source": [
    "df = pd.DataFrame({'v_m': [14.2, 14.5, 15.7, 18.2, 19.9, 20.8, 20.3],\n",
    "                   'rho_m': [300, 290, 290, 280, 230, 400, 450]},\n",
    "                   index=list(range(2023, 2030)))\n",
    "df"
   ]
  },
  {
   "cell_type": "markdown",
   "metadata": {},
   "source": [
    "Applying bend erosion model on every row in dataset (every year) and cumulative function:"
   ]
  },
  {
   "cell_type": "code",
   "execution_count": 8,
   "metadata": {},
   "outputs": [
    {
     "data": {
      "text/html": [
       "<div>\n",
       "<style scoped>\n",
       "    .dataframe tbody tr th:only-of-type {\n",
       "        vertical-align: middle;\n",
       "    }\n",
       "\n",
       "    .dataframe tbody tr th {\n",
       "        vertical-align: top;\n",
       "    }\n",
       "\n",
       "    .dataframe thead th {\n",
       "        text-align: right;\n",
       "    }\n",
       "</style>\n",
       "<table border=\"1\" class=\"dataframe\">\n",
       "  <thead>\n",
       "    <tr style=\"text-align: right;\">\n",
       "      <th></th>\n",
       "      <th>v_m</th>\n",
       "      <th>rho_m</th>\n",
       "      <th>rel_erosion</th>\n",
       "      <th>abs_erosion</th>\n",
       "      <th>cum_erosion</th>\n",
       "    </tr>\n",
       "  </thead>\n",
       "  <tbody>\n",
       "    <tr>\n",
       "      <td>2023</td>\n",
       "      <td>14.2</td>\n",
       "      <td>300</td>\n",
       "      <td>0.007430</td>\n",
       "      <td>0.351722</td>\n",
       "      <td>0.351722</td>\n",
       "    </tr>\n",
       "    <tr>\n",
       "      <td>2024</td>\n",
       "      <td>14.5</td>\n",
       "      <td>290</td>\n",
       "      <td>0.008060</td>\n",
       "      <td>0.381549</td>\n",
       "      <td>0.733271</td>\n",
       "    </tr>\n",
       "    <tr>\n",
       "      <td>2025</td>\n",
       "      <td>15.7</td>\n",
       "      <td>290</td>\n",
       "      <td>0.010027</td>\n",
       "      <td>0.474650</td>\n",
       "      <td>1.207921</td>\n",
       "    </tr>\n",
       "    <tr>\n",
       "      <td>2026</td>\n",
       "      <td>18.2</td>\n",
       "      <td>280</td>\n",
       "      <td>0.015422</td>\n",
       "      <td>0.730000</td>\n",
       "      <td>1.937921</td>\n",
       "    </tr>\n",
       "    <tr>\n",
       "      <td>2027</td>\n",
       "      <td>19.9</td>\n",
       "      <td>230</td>\n",
       "      <td>0.022647</td>\n",
       "      <td>1.072020</td>\n",
       "      <td>3.009941</td>\n",
       "    </tr>\n",
       "    <tr>\n",
       "      <td>2028</td>\n",
       "      <td>20.8</td>\n",
       "      <td>400</td>\n",
       "      <td>0.017133</td>\n",
       "      <td>0.810993</td>\n",
       "      <td>3.820934</td>\n",
       "    </tr>\n",
       "    <tr>\n",
       "      <td>2029</td>\n",
       "      <td>20.3</td>\n",
       "      <td>450</td>\n",
       "      <td>0.014682</td>\n",
       "      <td>0.694982</td>\n",
       "      <td>4.515916</td>\n",
       "    </tr>\n",
       "  </tbody>\n",
       "</table>\n",
       "</div>"
      ],
      "text/plain": [
       "       v_m  rho_m  rel_erosion  abs_erosion  cum_erosion\n",
       "2023  14.2    300     0.007430     0.351722     0.351722\n",
       "2024  14.5    290     0.008060     0.381549     0.733271\n",
       "2025  15.7    290     0.010027     0.474650     1.207921\n",
       "2026  18.2    280     0.015422     0.730000     1.937921\n",
       "2027  19.9    230     0.022647     1.072020     3.009941\n",
       "2028  20.8    400     0.017133     0.810993     3.820934\n",
       "2029  20.3    450     0.014682     0.694982     4.515916"
      ]
     },
     "execution_count": 8,
     "metadata": {},
     "output_type": "execute_result"
    }
   ],
   "source": [
    "df['rel_erosion'] = df.apply(lambda row: bend(row['v_m'], row['rho_m'], mu_m, R, GF, D, d_p), axis=1)\n",
    "df['abs_erosion'] = df.apply(lambda row: erosion_rate(row['rel_erosion'], Q_s), axis=1)\n",
    "df['cum_erosion'] = df['abs_erosion'].cumsum()\n",
    "df"
   ]
  },
  {
   "cell_type": "code",
   "execution_count": 9,
   "metadata": {},
   "outputs": [
    {
     "name": "stdout",
     "output_type": "stream",
     "text": [
      "Total erosion: 4.52 mm\n"
     ]
    }
   ],
   "source": [
    "print('Total erosion:', np.round(df['abs_erosion'].sum(), 2), 'mm')"
   ]
  },
  {
   "cell_type": "markdown",
   "metadata": {},
   "source": [
    "Plotting the results:"
   ]
  },
  {
   "cell_type": "code",
   "execution_count": 10,
   "metadata": {},
   "outputs": [
    {
     "data": {
      "text/plain": [
       "Text(0.5, 1.0, 'Erosion prediction for Lorem Ipsum')"
      ]
     },
     "execution_count": 10,
     "metadata": {},
     "output_type": "execute_result"
    },
    {
     "data": {
      "image/png": "[encoded data removed]",
      "text/plain": [
       "<Figure size 432x288 with 2 Axes>"
      ]
     },
     "metadata": {
      "needs_background": "light"
     },
     "output_type": "display_data"
    }
   ],
   "source": [
    "fig, ax1 = plt.subplots()\n",
    "\n",
    "color = 'tab:red'\n",
    "ax1.plot(df['abs_erosion'], label='erosion rate', color=color)\n",
    "ax1.set_ylabel('Erosion rate [mm/year]', color=color)\n",
    "ax1.tick_params(axis='y', labelcolor=color)\n",
    "\n",
    "ax2 = ax1.twinx()\n",
    "color = 'tab:blue'\n",
    "ax2.plot(df['cum_erosion'], label='cumulative erosion', color=color)\n",
    "ax2.set_ylabel('Total erosion [mm]', color=color)\n",
    "ax2.tick_params(axis='y', labelcolor=color)\n",
    "\n",
    "plt.title('Erosion prediction for Lorem Ipsum')"
   ]
  },
  {
   "cell_type": "markdown",
   "metadata": {},
   "source": [
    "Sand rate sensitivity study"
   ]
  },
  {
   "cell_type": "code",
   "execution_count": 11,
   "metadata": {},
   "outputs": [
    {
     "data": {
      "text/plain": [
       "Text(0.5, 1.0, 'Erosion rates - sand rate sensitivity')"
      ]
     },
     "execution_count": 11,
     "metadata": {},
     "output_type": "execute_result"
    },
    {
     "data": {
      "image/png": "[encoded data removed]",
      "text/plain": [
       "<Figure size 432x288 with 1 Axes>"
      ]
     },
     "metadata": {
      "needs_background": "light"
     },
     "output_type": "display_data"
    }
   ],
   "source": [
    "sand_rates = [0.05, 0.1, 0.3, 1.0]\n",
    "\n",
    "for Q_s in sand_rates:\n",
    "    plt.plot(df.apply(lambda row: erosion_rate(row['rel_erosion'], Q_s), axis=1), label=Q_s)\n",
    "plt.legend()\n",
    "plt.ylabel('Erosion rate [mm/year]')\n",
    "plt.title('Erosion rates - sand rate sensitivity')"
   ]
  }
 ],
 "metadata": {
  "kernelspec": {
   "display_name": "Python 3",
   "language": "python",
   "name": "python3"
  },
  "language_info": {
   "codemirror_mode": {
    "name": "ipython",
    "version": 3
   },
   "file_extension": ".py",
   "mimetype": "text/x-python",
   "name": "python",
   "nbconvert_exporter": "python",
   "pygments_lexer": "ipython3",
   "version": "3.6.7"
  }
 },
 "nbformat": 4,
 "nbformat_minor": 2
}
