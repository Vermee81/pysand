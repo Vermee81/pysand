{
 "cells": [
  {
   "cell_type": "markdown",
   "metadata": {},
   "source": [
    "# pySand\n",
    "#### Sand transport examples - created with version 1.6"
   ]
  },
  {
   "cell_type": "markdown",
   "metadata": {},
   "source": [
    "The stokes model should be used for vertical or deviated sand transport (typically in wells) which estimates critical (mix) velocity for sand transport. The hydro model should be used for horisontal sand transport (typically for subsea flowlines) and estimates two critical velocities, one for transition from stationary beds to moving beds and one for the transition from moving beds to fully dispersed flow."
   ]
  },
  {
   "cell_type": "code",
   "execution_count": 1,
   "metadata": {},
   "outputs": [],
   "source": [
    "from pysand.transport import stokes, hydro\n",
    "import matplotlib.pyplot as plt"
   ]
  },
  {
   "cell_type": "markdown",
   "metadata": {},
   "source": [
    "### Deviated well using stokes model"
   ]
  },
  {
   "cell_type": "code",
   "execution_count": 2,
   "metadata": {},
   "outputs": [
    {
     "name": "stdout",
     "output_type": "stream",
     "text": [
      "Help on function stokes in module pysand.transport:\n",
      "\n",
      "stokes(rho_m, mu_m, d_p, angle, rho_p=2650)\n",
      "    Sand lifting rate calculation model for vertical or deviated (up to ~80 deg) inclination\n",
      "    Based on Stokes law for settling velocities, but corrected for turbulent flow around sand grains\n",
      "    Mixture fluid properties and inclination at point of interest (e.g. down hole in a well)\n",
      "    :param rho_m: Mixture density [kg/m3]\n",
      "    :param mu_m: Mixture viscosity [kg/ms]\n",
      "    :param d_p: Particle diameter [mm]\n",
      "    :param angle: Inclination from vertical [deg]\n",
      "    :param rho_p: Particle density [kg/m3], default = 2650 (quartz sand)\n",
      "    :return: Particle settling velocity at point of interest [m/s]\n",
      "\n"
     ]
    }
   ],
   "source": [
    "help(stokes)"
   ]
  },
  {
   "cell_type": "markdown",
   "metadata": {},
   "source": [
    "Input parameters:"
   ]
  },
  {
   "cell_type": "code",
   "execution_count": 3,
   "metadata": {},
   "outputs": [],
   "source": [
    "rho_m = 350  # Mix density [kg/m3]\n",
    "mu_m = 1e-4  # Mix viscosity [kg/ms]\n",
    "d_p = .4  # Particle diameter [mm]\n",
    "angle = 24  # Angle from vertical [deg]"
   ]
  },
  {
   "cell_type": "markdown",
   "metadata": {},
   "source": [
    "Critical velocity for transport [m/s]:"
   ]
  },
  {
   "cell_type": "code",
   "execution_count": 4,
   "metadata": {},
   "outputs": [
    {
     "data": {
      "text/plain": [
       "0.24"
      ]
     },
     "execution_count": 4,
     "metadata": {},
     "output_type": "execute_result"
    }
   ],
   "source": [
    "stokes(rho_m, mu_m, d_p, angle)"
   ]
  },
  {
   "cell_type": "markdown",
   "metadata": {},
   "source": [
    "### Horisontal flowline using hydro model"
   ]
  },
  {
   "cell_type": "code",
   "execution_count": 5,
   "metadata": {},
   "outputs": [
    {
     "name": "stdout",
     "output_type": "stream",
     "text": [
      "Help on function hydro in module pysand.transport:\n",
      "\n",
      "hydro(D, rho_l, mu_l, d_p, e=5e-05, rho_p=2650)\n",
      "    Equinor sand transport model for horizontal pipelines\n",
      "    Based on T. Søntvedt (1995) and R. Schulkes (2002) work in Hydro\n",
      "    :param D: Pipe diameter [m]\n",
      "    :param rho_l: Liquid density [kg/m3]\n",
      "    :param mu_l: Dynamic liquid viscosity [Pa.s]\n",
      "    :param d_p: Sand grain diameter [mm]\n",
      "    :param e: Roughness of pipe [m] Optional. Default value: 5e-5 m\n",
      "    :param rho_p: Particle density [kg/m3], default = 2650 (quartz sand)\n",
      "    :return: list of critical velocities for transitions from stationary to moving bed\n",
      "    and from moving bed to dispersed transport [m/s]\n",
      "\n"
     ]
    }
   ],
   "source": [
    "help(hydro)"
   ]
  },
  {
   "cell_type": "markdown",
   "metadata": {},
   "source": [
    "Input parameters:"
   ]
  },
  {
   "cell_type": "code",
   "execution_count": 6,
   "metadata": {},
   "outputs": [],
   "source": [
    "D, rho_l, mu_l, d_p = 0.12, 780, 1.2e-3, .7"
   ]
  },
  {
   "cell_type": "markdown",
   "metadata": {},
   "source": [
    "Critical velocities [m/s] for moving dunes and dispersed flow:"
   ]
  },
  {
   "cell_type": "code",
   "execution_count": 7,
   "metadata": {},
   "outputs": [
    {
     "data": {
      "text/plain": [
       "[0.78, 1.44]"
      ]
     },
     "execution_count": 7,
     "metadata": {},
     "output_type": "execute_result"
    }
   ],
   "source": [
    "hydro(D, rho_l, mu_l, d_p)"
   ]
  },
  {
   "cell_type": "markdown",
   "metadata": {},
   "source": [
    "### Sensitivity study for varying inclination with Stokes model:"
   ]
  },
  {
   "cell_type": "code",
   "execution_count": 8,
   "metadata": {},
   "outputs": [
    {
     "name": "stdout",
     "output_type": "stream",
     "text": [
      "Inclination [deg] in study:  [0, 10, 20, 30, 40, 50, 60, 70, 80]\n"
     ]
    }
   ],
   "source": [
    "angles = list(range(0, 81, 10))\n",
    "print('Inclination [deg] in study: ', angles)\n",
    "velocities = []\n",
    "for angle in angles:\n",
    "    velocities.append(stokes(rho_m, mu_m, d_p, angle))"
   ]
  },
  {
   "cell_type": "code",
   "execution_count": 9,
   "metadata": {},
   "outputs": [
    {
     "data": {
      "text/plain": [
       "Text(0, 0.5, 'Critical velocity [m/s]')"
      ]
     },
     "execution_count": 9,
     "metadata": {},
     "output_type": "execute_result"
    },
    {
     "data": {
      "image/png": "[encoded data removed]",
      "text/plain": [
       "<Figure size 432x288 with 1 Axes>"
      ]
     },
     "metadata": {
      "needs_background": "light"
     },
     "output_type": "display_data"
    }
   ],
   "source": [
    "plt.plot(angles, velocities, 'o-')\n",
    "plt.title('Critical velocity for sand transport')\n",
    "plt.xlabel('Inclination [deg]')\n",
    "plt.ylabel('Critical velocity [m/s]')"
   ]
  }
 ],
 "metadata": {
  "kernelspec": {
   "display_name": "Python 3",
   "language": "python",
   "name": "python3"
  },
  "language_info": {
   "codemirror_mode": {
    "name": "ipython",
    "version": 3
   },
   "file_extension": ".py",
   "mimetype": "text/x-python",
   "name": "python",
   "nbconvert_exporter": "python",
   "pygments_lexer": "ipython3",
   "version": "3.6.7"
  }
 },
 "nbformat": 4,
 "nbformat_minor": 2
}
