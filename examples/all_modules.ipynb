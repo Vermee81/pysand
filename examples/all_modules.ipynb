{
 "cells": [
  {
   "cell_type": "markdown",
   "metadata": {},
   "source": [
    "# pySand 1.5\n",
    "##### Calculating erosion rate and transport velocity based on basic measurements - created with version 1.6\n"
   ]
  },
  {
   "cell_type": "code",
   "execution_count": 1,
   "metadata": {},
   "outputs": [],
   "source": [
    "import pysand as ps\n",
    "import numpy as np"
   ]
  },
  {
   "cell_type": "markdown",
   "metadata": {},
   "source": [
    "## Input"
   ]
  },
  {
   "cell_type": "markdown",
   "metadata": {},
   "source": [
    "Typical sensor input:"
   ]
  },
  {
   "cell_type": "code",
   "execution_count": 2,
   "metadata": {},
   "outputs": [],
   "source": [
    "P = 40  # Pressure [bar]\n",
    "T = 50  # Temperature [deg C]\n",
    "Qo = 300  # Oil rate [Sm3/d]\n",
    "Qw = 2300  # Water rate [Sm3/d]\n",
    "Qg = 320000  # Gas rate [Sm3/d]\n",
    "raw = 6450  # Acoustic response from ASD\n",
    "zero = 3200  # Background noise (response without sand)"
   ]
  },
  {
   "cell_type": "markdown",
   "metadata": {},
   "source": [
    "Fluid and particle input:"
   ]
  },
  {
   "cell_type": "code",
   "execution_count": 3,
   "metadata": {},
   "outputs": [],
   "source": [
    "rho_o = 780  # Oil density at std conditions [kg/m3]\n",
    "rho_w = 980  # Water density at std conditions [kg/m3]\n",
    "mu_o = 2.5e-3  # Oil viscosity [kg/ms]\n",
    "mu_w = 1e-3  # Water viscosity [kg/ms]\n",
    "mu_g = 1e-5  # Gas viscosity [kg/ms]\n",
    "MW = 19.2  # Gas molecular weight [kg/kmol]\n",
    "Z = .95  # Gas compressibility factor [-]\n",
    "d_p = .4  # Particle diameter [mm]"
   ]
  },
  {
   "cell_type": "markdown",
   "metadata": {},
   "source": [
    "Geometry input:"
   ]
  },
  {
   "cell_type": "code",
   "execution_count": 4,
   "metadata": {},
   "outputs": [],
   "source": [
    "D = 0.12 # Pipe cross sectional diameter [m]\n",
    "GF = 3  # Geometry factor"
   ]
  },
  {
   "cell_type": "markdown",
   "metadata": {},
   "source": [
    "## Calculations"
   ]
  },
  {
   "cell_type": "markdown",
   "metadata": {},
   "source": [
    "Calculate the gas liquid ratio"
   ]
  },
  {
   "cell_type": "code",
   "execution_count": 5,
   "metadata": {},
   "outputs": [
    {
     "name": "stdout",
     "output_type": "stream",
     "text": [
      "GLR: 123.1 Sm3/Sm3\n"
     ]
    }
   ],
   "source": [
    "GLR = Qg/(Qo+Qw)  # Gas liquid ratio [Sm3/Sm3]\n",
    "print('GLR:', np.round(GLR,1), 'Sm3/Sm3')"
   ]
  },
  {
   "cell_type": "markdown",
   "metadata": {},
   "source": [
    "Calculate basic fluid properties"
   ]
  },
  {
   "cell_type": "code",
   "execution_count": 6,
   "metadata": {},
   "outputs": [
    {
     "name": "stdout",
     "output_type": "stream",
     "text": [
      "Mix velocity: 11.47 m/s\n",
      "Mix density: 245.04 kg/m3\n",
      "Mix viscosity: 0.00028 kg/ms\n"
     ]
    }
   ],
   "source": [
    "v_m = ps.fluidproperties.mix_velocity(P, T, Qo, Qw, Qg, Z, D)\n",
    "rho_m = ps.fluidproperties.mix_density(P, T, Qo, Qw, Qg, rho_o, rho_w, MW, Z)\n",
    "mu_m = ps.fluidproperties.mix_viscosity(P, T, Qo, Qw, Qg, mu_o, mu_w, mu_g, Z)\n",
    "print('Mix velocity:', v_m, 'm/s')\n",
    "print('Mix density:', rho_m, 'kg/m3')\n",
    "print('Mix viscosity:', mu_m, 'kg/ms')"
   ]
  },
  {
   "cell_type": "markdown",
   "metadata": {},
   "source": [
    "Calculate step value based on standard vendor model"
   ]
  },
  {
   "cell_type": "code",
   "execution_count": 7,
   "metadata": {},
   "outputs": [
    {
     "name": "stdout",
     "output_type": "stream",
     "text": [
      "Step: 7755.5\n"
     ]
    }
   ],
   "source": [
    "step = ps.asd.std_step_clampon(v_m, GLR)\n",
    "print('Step:', step)"
   ]
  },
  {
   "cell_type": "markdown",
   "metadata": {},
   "source": [
    "Calculate sand rate:"
   ]
  },
  {
   "cell_type": "code",
   "execution_count": 8,
   "metadata": {},
   "outputs": [
    {
     "name": "stdout",
     "output_type": "stream",
     "text": [
      "Sand rate: 0.42 g/s\n"
     ]
    }
   ],
   "source": [
    "Q_s = ps.asd.sand_rate(raw, zero, step)\n",
    "print('Sand rate:',np.round(Q_s,2),'g/s')"
   ]
  },
  {
   "cell_type": "markdown",
   "metadata": {},
   "source": [
    "Calculate the relative and aboslute erosion rates on an aluminium blinded tee:"
   ]
  },
  {
   "cell_type": "code",
   "execution_count": 9,
   "metadata": {},
   "outputs": [],
   "source": [
    "E = ps.erosion.tee(v_m, rho_m, mu_m, GF, D, d_p, material='aluminium')\n",
    "E_rate = ps.erosion.erosion_rate(E, Q_s)"
   ]
  },
  {
   "cell_type": "markdown",
   "metadata": {},
   "source": [
    "Check that velocity is above critical transport velocity:"
   ]
  },
  {
   "cell_type": "code",
   "execution_count": 10,
   "metadata": {},
   "outputs": [],
   "source": [
    "rho_l = (rho_w * Qw + rho_o * Qo) / (Qw + Qo)\n",
    "mu_l = (mu_w * Qw + mu_o * Qo) / (Qo + Qw)\n",
    "crit_v = ps.transport.hydro(D, rho_l, mu_l, d_p)"
   ]
  },
  {
   "cell_type": "markdown",
   "metadata": {},
   "source": [
    "## Result"
   ]
  },
  {
   "cell_type": "code",
   "execution_count": 11,
   "metadata": {},
   "outputs": [
    {
     "name": "stdout",
     "output_type": "stream",
     "text": [
      "Relative erosion rate: 0.04 mm/ton\n",
      "Erosion rate: 0.48 mm/year\n"
     ]
    }
   ],
   "source": [
    "print('Relative erosion rate:', np.round(E,2), 'mm/ton')\n",
    "print('Erosion rate:', np.round(E_rate, 2), 'mm/year')"
   ]
  },
  {
   "cell_type": "code",
   "execution_count": 12,
   "metadata": {},
   "outputs": [
    {
     "name": "stdout",
     "output_type": "stream",
     "text": [
      "The velocity is above the critical velocity for dispersed flow transport\n"
     ]
    }
   ],
   "source": [
    "if v_m > crit_v[1]:\n",
    "    print('The velocity is above the critical velocity for dispersed flow transport')\n",
    "elif v_m > crit_v[0]:\n",
    "    print('The velocity is between critical velocities for moving beds and dispersed flow')\n",
    "else:\n",
    "    print('The velocity is below critical velocity for transport')"
   ]
  }
 ],
 "metadata": {
  "kernelspec": {
   "display_name": "Python 3",
   "language": "python",
   "name": "python3"
  },
  "language_info": {
   "codemirror_mode": {
    "name": "ipython",
    "version": 3
   },
   "file_extension": ".py",
   "mimetype": "text/x-python",
   "name": "python",
   "nbconvert_exporter": "python",
   "pygments_lexer": "ipython3",
   "version": "3.6.7"
  }
 },
 "nbformat": 4,
 "nbformat_minor": 2
}
